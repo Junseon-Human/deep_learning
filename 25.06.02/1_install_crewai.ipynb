{
 "cells": [
  {
   "cell_type": "markdown",
   "id": "09ba6f8f",
   "metadata": {},
   "source": [
    "콘다 환경 새로 맨들기\n",
    "\n",
    "https://visualstudio.microsoft.com/visual-cpp-build-tools/\n",
    "접속해서 빌드툴 설치 시 C++ 체크\n",
    "\n",
    "python3 --version \n",
    "\n",
    "powershell -ExecutionPolicy Bypass -c \"irm https://astral.sh/uv/install.ps1 | iex\"\n",
    "\n",
    "pip install -U python-dotenv crewai[tools] openai langchain-community\n",
    "\n",
    "uv tool install crewai\n",
    "\n",
    "uv tool list\n",
    "\n",
    "uv tool install crewai --upgrade"
   ]
  },
  {
   "cell_type": "markdown",
   "id": "70aa985a",
   "metadata": {},
   "source": [
    "프로젝트 생성해보기\n",
    "crewai create crew HI_CREWAI\n",
    "\n",
    "openai - gpt-4o-mini - api key 입력\n",
    "\n",
    "프로젝트 실행\n",
    "cd ./hi_crewai\n",
    "\n",
    "crewai run\n",
    "\n",
    "report.md 로 결과 확인가능"
   ]
  }
 ],
 "metadata": {
  "language_info": {
   "name": "python"
  }
 },
 "nbformat": 4,
 "nbformat_minor": 5
}
